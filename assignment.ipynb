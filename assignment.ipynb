{
 "cells": [
  {
   "cell_type": "markdown",
   "metadata": {},
   "source": [
    "# Lokaverkefni TÖL403G 2025\n",
    "\n",
    "## Höfundar\n",
    "Sigurður Ari Stefánsson\n",
    "\n",
    "Svava Þóra Árnadóttir"
   ]
  },
  {
   "cell_type": "markdown",
   "metadata": {},
   "source": [
    "## imports"
   ]
  },
  {
   "cell_type": "code",
   "execution_count": 16,
   "metadata": {},
   "outputs": [],
   "source": [
    "import pandas as pd\n",
    "import networkx as nx\n",
    "import matplotlib.pyplot as plt"
   ]
  },
  {
   "cell_type": "markdown",
   "metadata": {},
   "source": [
    "# Liður 2.3.1 (*) \n",
    "\n",
    "### Þáttun\n",
    "\n",
    "Lesið inn netið úr skránum sem eru gefnar, nodes.tsv og edges.tsv. Í skránni nodes.tsv\n",
    "eru hnútar með auðkenni (id), hnit (x, y) og hvort þeir séu á aðalvegi (primary). Í skránni\n",
    "edges.tsv eru leggi frá hnúti u til hnúts v með lengd length, mæld í metrum, og nafn\n",
    "(name)."
   ]
  },
  {
   "cell_type": "code",
   "execution_count": 17,
   "metadata": {},
   "outputs": [
    {
     "name": "stdout",
     "output_type": "stream",
     "text": [
      "      osmid          x          y  primary\n",
      "0  12885866 -21.937473  64.067271    False\n",
      "1  12885876 -21.939951  64.076157     True\n",
      "2  12885922 -22.087890  64.031977    False\n",
      "3  12885923 -21.937852  64.067260    False\n",
      "4  12885924 -21.938078  64.067047     True\n",
      "--------------\n",
      "          u           v       length            name\n",
      "0  12885866    12885923    18.992015      Hlíðartorg\n",
      "1  12885866  1573411414   653.666145  Reykjanesbraut\n",
      "2  12885876  1660480490    35.437064      Flatahraun\n",
      "3  12885876    12885952    16.131272         FH-Torg\n",
      "4  12885922  2978379988  2587.067864  Reykjanesbraut\n",
      "--------------\n",
      "DiGraph with 10983 nodes and 22154 edges\n"
     ]
    }
   ],
   "source": [
    "# lesa inn hnúta\n",
    "nodes = pd.read_csv(\"nodes.tsv\", sep=\"\\t\", dtype={\"osmid\": str})\n",
    "\n",
    "# lesa inn leggi\n",
    "edges = pd.read_csv(\"edges.tsv\", sep=\"\\t\", dtype={\"u\": str, \"v\": str})\n",
    "\n",
    "# búa til stefnt net með NetworkX pakkanum\n",
    "G = nx.DiGraph()\n",
    "\n",
    "# bæta hnútum inn í net\n",
    "for _, row in nodes.iterrows():\n",
    "    G.add_node(row[\"osmid\"], pos=(float(row[\"x\"]), float(row[\"y\"])), primary=row[\"primary\"])\n",
    "\n",
    "# bæta leggjum inn í net\n",
    "for _, row in edges.iterrows():\n",
    "    G.add_edge(row[\"u\"], row[\"v\"], weight=(float(row[\"length\"])), name=row.get(\"name\", None))\n",
    "\n",
    "print(nodes.head())\n",
    "print(\"--------------\")\n",
    "print(edges.head())\n",
    "print(\"--------------\")\n",
    "print(G)\n"
   ]
  },
  {
   "cell_type": "markdown",
   "metadata": {},
   "source": [
    "# Liður 2.3.2 (**)\n",
    "\n",
    "### Leit\n",
    "\n",
    "Ef við setjum hleðslustöðvar á hnúta v1, . . . , vk þá er hægt að nota reikniritið dijkstra til að\n",
    "finna stystu fjarlægð frá hnverjum hnúti u í hleðslustöð vi. Útfærið reikniritið sem tekur\n",
    "inn lista af lokahnútum og reiknar fjarlægðir frá öllum hnútum í netinu. Athugið að netið\n",
    "er stefnt net."
   ]
  },
  {
   "cell_type": "code",
   "execution_count": 18,
   "metadata": {},
   "outputs": [],
   "source": [
    "def calculate_shortest_distance_to_station():\n",
    "    return 0"
   ]
  },
  {
   "cell_type": "markdown",
   "metadata": {},
   "source": [
    "# Liður 2.3.3 (*)\n",
    "\n",
    "### Framsetning\n",
    "\n",
    "Setjið fimm hleðslustöðvar í netið og sýnið stystu leið fyrir fimm punkta og teiknið upp á\n",
    "kort. Tékkið ykkur af með því að bera saman leiðina sem er fundin og fjarlægðina miðað\n",
    "við kortavefi eins og t.d. Google Maps."
   ]
  },
  {
   "cell_type": "code",
   "execution_count": null,
   "metadata": {},
   "outputs": [],
   "source": []
  },
  {
   "cell_type": "markdown",
   "metadata": {},
   "source": [
    "# Liður 2.3.4 (*)\n",
    "\n",
    "### Tímamælingar\n",
    "\n",
    "Mælið tímann sem reikniritið dijkstra tekur að reikna allar fjarlægðir í netinu með fimm\n",
    "hleðslustöðvum."
   ]
  },
  {
   "cell_type": "code",
   "execution_count": null,
   "metadata": {},
   "outputs": [],
   "source": []
  },
  {
   "cell_type": "markdown",
   "metadata": {},
   "source": [
    "# Liður 2.3.5 (**)\n",
    "\n",
    "### A* reikniritið\n",
    "\n",
    "Útfærið A⋆ reikniritið sem tekur inn lista af lokahnútum og reiknar fjarlægðir frá öll-\n",
    "um hnútum í netinu. Sem neðra mat á fjarlægð á milli hnútanna má taka $d(u, v) = \\sqrt{(x_u − x_v )^2 + (y_u − y_v )^2}$, þ.e. beina loftlínu milli punktanna. Mælið tíma og berið saman\n",
    "við reiknirit Dijkstra."
   ]
  },
  {
   "cell_type": "code",
   "execution_count": null,
   "metadata": {},
   "outputs": [],
   "source": []
  },
  {
   "cell_type": "markdown",
   "metadata": {},
   "source": [
    "# Liður 2.3.6 (**)\n",
    "\n",
    "### Staðsetning hleðslustöðva\n",
    "\n",
    "Ef við setjum k hleðslustöðvar í hnúta $v_1, . . . , v_k$ þá látum við markfallið vera\n",
    "\n",
    "$$F(v_1,...,v_k) = \\sum_{u \\in V} \\underset{i=1,...,k}{min} d(u,v_i)$$\n",
    "\n",
    "þ.e. fyrir hvern hnút í netinu reiknum við stystu fjarlægð frá honum til næstu hleðslustöðvar\n",
    "og leggjum saman yfir alla hnúta í netinu.\n",
    "\n",
    "Finnið bestu lausn fyrir k = 1, með því að prófa alla hnúta sem hægt er að setja\n",
    "hleðslustöð í og veljið þann sem gefur minnsta markfall. Athugið að eingöngu þeir hnútar\n",
    "sem eru merktir sem primary geta verið hleðslustöðvar."
   ]
  },
  {
   "cell_type": "code",
   "execution_count": null,
   "metadata": {},
   "outputs": [],
   "source": []
  },
  {
   "cell_type": "markdown",
   "metadata": {},
   "source": [
    "# Liður 2.3.7 (**)\n",
    "\n",
    "### Gráðug reiknirit\n",
    "\n",
    "Útfærið gráðugt reiknirit sem leitar að bestu lausn fyrir $k = 2, . . . , 10$ með því að leysa\n",
    "vandamálið fyrir k−1 hleðslustöðvum og bæta þá við þann hnút sem gefur minnsta markfall,\n",
    "miðað við að ekki sé hægt að breyta $v_1, . . . , v_{k−1}$\n",
    "Sýnið á korti hvaða hleðslustöðvar eru valdar fyrir k = 10 og mælið tímann sem reikniritið\n",
    "tekur."
   ]
  },
  {
   "cell_type": "code",
   "execution_count": null,
   "metadata": {},
   "outputs": [],
   "source": []
  },
  {
   "cell_type": "markdown",
   "metadata": {},
   "source": [
    "# Liður 2.3.8 (**)\n",
    "\n",
    "### Skárri gráðug reiknirit\n",
    "\n",
    "Gráðuga reikniritið á það til að mála sig út í horn með því að velja lélegan fyrsta hnút.\n",
    "Breytið leitinni þannig að þið veljið handahófskenndan fyrsta hnút og farið endurkvæmt í\n",
    "tilfellin $k = 2, . . . , 10.$ Í hverju undirtilfelli finnið þið 2 bestu hnútana sem koma til greina\n",
    "en eru langt frá hvor öðrum og prófið endurkvæmt alla möguleika. Haldið utan um bestu\n",
    "lausnina sem finnst fyrir nokkur hanndahófskennda upphafspunkta og sýnið bestu lausn á\n",
    "korti. Hve mikinn tíma tekur reikniritið ykkar?"
   ]
  },
  {
   "cell_type": "code",
   "execution_count": null,
   "metadata": {},
   "outputs": [],
   "source": []
  },
  {
   "cell_type": "markdown",
   "metadata": {},
   "source": [
    "# Liður 2.3.9 (***)\n",
    "\n",
    "### Nákvæm lausn fyrir k=10\n",
    "\n",
    "Finnið bestu lausn fyrir k = 10 með því að setja vandamálið upp sem heiltölubestunarverk-\n",
    "efni (e. integer linear program) og leysa það með því að nota pakka á borð við Gurobi eða\n",
    "OR-tools. Athugið að verkefnið gæti verið of stórt fyrir þessa pakka. Nýtið ykkur götur í\n",
    "hverfum eru oft teng við primary hnúta í gegnum einn veg, þá er hægt að einfalda netið með\n",
    "því að skipta þessum hverfum út fyrir einn hnút sem tengir sameiginlegan primary hnút.\n",
    "Þessa leggi er hægt að finna með DFS. Sýnið bestu lausnina á korti og mælið tímann sem\n",
    "heiltölubestunarverkefnið tekur.\n",
    "3\n"
   ]
  },
  {
   "cell_type": "code",
   "execution_count": null,
   "metadata": {},
   "outputs": [],
   "source": []
  }
 ],
 "metadata": {
  "kernelspec": {
   "display_name": "base",
   "language": "python",
   "name": "python3"
  },
  "language_info": {
   "codemirror_mode": {
    "name": "ipython",
    "version": 3
   },
   "file_extension": ".py",
   "mimetype": "text/x-python",
   "name": "python",
   "nbconvert_exporter": "python",
   "pygments_lexer": "ipython3",
   "version": "3.11.5"
  }
 },
 "nbformat": 4,
 "nbformat_minor": 2
}
